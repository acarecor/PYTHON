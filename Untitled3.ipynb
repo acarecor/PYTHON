{
 "cells": [
  {
   "cell_type": "code",
   "execution_count": 2,
   "id": "8808a29a",
   "metadata": {},
   "outputs": [
    {
     "name": "stdout",
     "output_type": "stream",
     "text": [
      "x x x x x\n",
      "x x x x x\n",
      "x x x x x\n",
      "x x x x x\n",
      "x x x x x\n"
     ]
    }
   ],
   "source": [
    "for i in range(5):\n",
    "    print(\"x x x x x\")\n",
    "    "
   ]
  },
  {
   "cell_type": "code",
   "execution_count": 14,
   "id": "194e960e",
   "metadata": {},
   "outputs": [
    {
     "name": "stdout",
     "output_type": "stream",
     "text": [
      "x x x x x x x x x x \n",
      "x x x x x x x x x x \n",
      "x x x x x x x x x x \n",
      "x x x x x x x x x x \n",
      "x x x x x x x x x x \n",
      "x x x x x x x x x x \n",
      "x x x x x x x x x x \n",
      "x x x x x x x x x x \n",
      "x x x x x x x x x x \n",
      "x x x x x x x x x x \n"
     ]
    }
   ],
   "source": [
    "for i in range(10):\n",
    "    print((\"x \")*10)"
   ]
  },
  {
   "cell_type": "code",
   "execution_count": 1,
   "id": "5370edfb",
   "metadata": {},
   "outputs": [
    {
     "name": "stdout",
     "output_type": "stream",
     "text": [
      "x x x x x \n",
      "x x x x x \n",
      "x x x x x \n",
      "x x x x x \n",
      "x x x x x \n"
     ]
    }
   ],
   "source": [
    "for i in range(1,6, +1):\n",
    "    print(\"x \"*5)"
   ]
  },
  {
   "cell_type": "code",
   "execution_count": 2,
   "id": "b325c417",
   "metadata": {},
   "outputs": [
    {
     "name": "stdout",
     "output_type": "stream",
     "text": [
      "Bitte schreibe Du bist wundervoll!:Du bist wundervoll\n",
      "Bitte schreibe Du bist wundervoll!:Du bist wundervoll!\n",
      "Danke. Du bist toll\n"
     ]
    }
   ],
   "source": [
    "text =input(\"Bitte schreibe Du bist wundervoll!:\")\n",
    "\n",
    "while text != \"Du bist wundervoll!\":\n",
    "    text = input (\"Bitte schreibe Du bist wundervoll!:\")\n",
    "\n",
    "print(\"Danke. Du bist toll\")"
   ]
  },
  {
   "cell_type": "code",
   "execution_count": null,
   "id": "8646a59b",
   "metadata": {},
   "outputs": [],
   "source": []
  }
 ],
 "metadata": {
  "kernelspec": {
   "display_name": "Python 3 (ipykernel)",
   "language": "python",
   "name": "python3"
  },
  "language_info": {
   "codemirror_mode": {
    "name": "ipython",
    "version": 3
   },
   "file_extension": ".py",
   "mimetype": "text/x-python",
   "name": "python",
   "nbconvert_exporter": "python",
   "pygments_lexer": "ipython3",
   "version": "3.9.13"
  }
 },
 "nbformat": 4,
 "nbformat_minor": 5
}
