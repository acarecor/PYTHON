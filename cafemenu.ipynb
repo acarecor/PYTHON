{
 "cells": [
  {
   "cell_type": "code",
   "execution_count": null,
   "id": "d02c5c42",
   "metadata": {},
   "outputs": [],
   "source": [
    "print('Café Menu')\n",
    "print(' ')\n",
    "print('1.Suppe und Salad')\n",
    "print('2.Pasta mit Fleischklöschen')\n",
    "print('3.Tagesmenü')\n",
    "print(' ')\n",
    "\n",
    "while True:\n",
    "    menu = int(input('Um zu bestellen, geben Sie die entsprechende Nummer an:'))\n",
    "         \n",
    "    if int(menu) == 1:  \n",
    "        print('Einmal Suppe und Salad kommt sofort')\n",
    "    elif int(menu) == 2:\n",
    "        print ('Einmal Pasta mit Fleischklöschen kommt sofort')\n",
    "    elif int(menu) == 3:\n",
    "        print('Einmal ein Tagesmenu kommt sofort')\n",
    "    else: \n",
    "        print('Tut mit leid, diese Auswahl ist ungültig')\n",
    "        print('Bitte eine andere auswahl treffen:')"
   ]
  },
  {
   "cell_type": "code",
   "execution_count": null,
   "id": "d154d85b",
   "metadata": {},
   "outputs": [],
   "source": []
  }
 ],
 "metadata": {
  "kernelspec": {
   "display_name": "Python 3 (ipykernel)",
   "language": "python",
   "name": "python3"
  },
  "language_info": {
   "codemirror_mode": {
    "name": "ipython",
    "version": 3
   },
   "file_extension": ".py",
   "mimetype": "text/x-python",
   "name": "python",
   "nbconvert_exporter": "python",
   "pygments_lexer": "ipython3",
   "version": "3.9.13"
  }
 },
 "nbformat": 4,
 "nbformat_minor": 5
}
